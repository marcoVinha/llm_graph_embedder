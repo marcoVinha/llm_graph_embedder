{
 "cells": [
  {
   "cell_type": "code",
   "execution_count": null,
   "metadata": {},
   "outputs": [],
   "source": [
    "from pathlib import Path\n",
    "\n",
    "\n",
    "DEVICE = \"cuda\"\n",
    "PROJECT_ROOT_DIR = str(Path.cwd().parent)\n",
    "PROJECT_ROOT_DIR"
   ]
  },
  {
   "cell_type": "code",
   "execution_count": null,
   "metadata": {},
   "outputs": [],
   "source": [
    "from huggingface_hub import notebook_login\n",
    "\n",
    "notebook_login()"
   ]
  },
  {
   "cell_type": "markdown",
   "metadata": {},
   "source": [
    "# Loading data"
   ]
  },
  {
   "cell_type": "code",
   "execution_count": 3,
   "metadata": {},
   "outputs": [],
   "source": [
    "import pandas as pd\n",
    "\n",
    "\n",
    "train_data = pd.read_parquet(f\"{PROJECT_ROOT_DIR}/dataset/train.parquet\").sample(n=3)\n",
    "eval_data = pd.read_parquet(f\"{PROJECT_ROOT_DIR}/dataset/eval.parquet\").sample(n=1)\n",
    "test_data = pd.read_parquet(f\"{PROJECT_ROOT_DIR}/dataset/test.parquet\").sample(n=1)"
   ]
  },
  {
   "cell_type": "code",
   "execution_count": 4,
   "metadata": {},
   "outputs": [],
   "source": [
    "def format_training_conversations(sample):\n",
    "    prompt_template = \"\"\"<human>: {human_turn}\\n\\n<gpt>: {gpt_turn}\"\"\"\n",
    "\n",
    "    return prompt_template.format(\n",
    "        human_turn=sample[\"formatted_conversations\"][0][\"value\"],\n",
    "        gpt_turn=sample[\"formatted_conversations\"][1][\"value\"],\n",
    "    )\n",
    "\n",
    "\n",
    "def format_test_conversations(sample):\n",
    "    prompt_template = \"\"\"<human>: {human_turn}\\n\\n<gpt>: \"\"\"\n",
    "\n",
    "    return prompt_template.format(\n",
    "        human_turn=sample[\"formatted_conversations\"][0][\"value\"],\n",
    "    )"
   ]
  },
  {
   "cell_type": "code",
   "execution_count": 5,
   "metadata": {},
   "outputs": [],
   "source": [
    "train_data[\"full_conversation\"] = train_data.apply(\n",
    "    format_training_conversations, axis=1\n",
    ")\n",
    "eval_data[\"full_conversation\"] = eval_data.apply(format_training_conversations, axis=1)\n",
    "\n",
    "test_data[\"full_conversation\"] = test_data.apply(format_test_conversations, axis=1)"
   ]
  },
  {
   "cell_type": "code",
   "execution_count": 6,
   "metadata": {},
   "outputs": [],
   "source": [
    "from datasets import DatasetDict, Dataset\n",
    "\n",
    "dataset = DatasetDict(\n",
    "    {\n",
    "        \"train\": Dataset.from_pandas(\n",
    "            train_data[[\"full_conversation\"]].reset_index(drop=True)\n",
    "        ),\n",
    "        \"eval\": Dataset.from_pandas(\n",
    "            eval_data[[\"full_conversation\"]].reset_index(drop=True)\n",
    "        ),\n",
    "        \"test\": Dataset.from_pandas(\n",
    "            test_data[[\"full_conversation\"]].reset_index(drop=True)\n",
    "        ),\n",
    "    }\n",
    ")"
   ]
  },
  {
   "cell_type": "code",
   "execution_count": null,
   "metadata": {},
   "outputs": [],
   "source": [
    "dataset"
   ]
  },
  {
   "cell_type": "markdown",
   "metadata": {},
   "source": [
    "# Exploring Gemma 2B-it model"
   ]
  },
  {
   "cell_type": "code",
   "execution_count": null,
   "metadata": {},
   "outputs": [],
   "source": [
    "%%time\n",
    "\n",
    "from transformers import AutoTokenizer, AutoModelForCausalLM, AutoModel\n",
    "\n",
    "tokenizer = AutoTokenizer.from_pretrained(\"google/gemma-2-2b-it\", device_map=DEVICE)\n",
    "\n",
    "# model = AutoModel.from_pretrained(\"google/gemma-2-2b-it\", device_map=DEVICE)\n",
    "model = AutoModelForCausalLM.from_pretrained(\"google/gemma-2-2b-it\", device_map=DEVICE)"
   ]
  },
  {
   "cell_type": "code",
   "execution_count": null,
   "metadata": {},
   "outputs": [],
   "source": [
    "model.to(DEVICE)"
   ]
  },
  {
   "cell_type": "markdown",
   "metadata": {},
   "source": [
    "# Fine tune Gemma in a couple of samples"
   ]
  },
  {
   "cell_type": "code",
   "execution_count": null,
   "metadata": {},
   "outputs": [],
   "source": [
    "def tokenize_function(examples):\n",
    "    return tokenizer(\n",
    "        examples[\"full_conversation\"],\n",
    "        padding=\"max_length\",\n",
    "        truncation=True,\n",
    "        max_length=512,\n",
    "    )\n",
    "\n",
    "\n",
    "tokenized_train_data = dataset[\"train\"].map(tokenize_function, batched=True)\n",
    "tokenized_eval_data = dataset[\"eval\"].map(tokenize_function, batched=True)\n",
    "\n",
    "tokenized_train_data.set_format(type=\"torch\", columns=[\"input_ids\", \"attention_mask\"])\n",
    "tokenized_eval_data.set_format(type=\"torch\", columns=[\"input_ids\", \"attention_mask\"])"
   ]
  },
  {
   "cell_type": "code",
   "execution_count": 11,
   "metadata": {},
   "outputs": [],
   "source": [
    "from transformers import DataCollatorForLanguageModeling\n",
    "\n",
    "data_collator = DataCollatorForLanguageModeling(tokenizer=tokenizer, mlm=False)"
   ]
  },
  {
   "cell_type": "code",
   "execution_count": 12,
   "metadata": {},
   "outputs": [],
   "source": [
    "from transformers import Trainer, TrainingArguments\n",
    "\n",
    "training_args = TrainingArguments(\n",
    "    output_dir=\"./results\",\n",
    "    eval_strategy=\"epoch\",\n",
    "    learning_rate=1e-5,\n",
    "    num_train_epochs=2,\n",
    "    save_strategy=\"epoch\",\n",
    "    logging_strategy=\"epoch\",\n",
    "    logging_dir=\"./logs\",\n",
    ")\n",
    "\n",
    "trainer = Trainer(\n",
    "    model=model,\n",
    "    args=training_args,\n",
    "    data_collator=data_collator,\n",
    "    train_dataset=tokenized_train_data,\n",
    "    eval_dataset=tokenized_eval_data,\n",
    ")"
   ]
  },
  {
   "cell_type": "code",
   "execution_count": null,
   "metadata": {},
   "outputs": [],
   "source": [
    "trainer.train()"
   ]
  }
 ],
 "metadata": {
  "kernelspec": {
   "display_name": ".venv",
   "language": "python",
   "name": "python3"
  },
  "language_info": {
   "codemirror_mode": {
    "name": "ipython",
    "version": 3
   },
   "file_extension": ".py",
   "mimetype": "text/x-python",
   "name": "python",
   "nbconvert_exporter": "python",
   "pygments_lexer": "ipython3",
   "version": "3.10.12"
  }
 },
 "nbformat": 4,
 "nbformat_minor": 2
}
